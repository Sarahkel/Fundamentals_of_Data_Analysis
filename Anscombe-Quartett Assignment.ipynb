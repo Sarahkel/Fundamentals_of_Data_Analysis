{
 "cells": [
  {
   "cell_type": "markdown",
   "metadata": {},
   "source": [
    "# Assignment: Fundamentals of Data Analysis 2018"
   ]
  },
  {
   "cell_type": "markdown",
   "metadata": {},
   "source": [
    "In this notebook I will present the Anscombe quartet and touch on the following topics:\n",
    "\n",
    "1. Introduction to the background of the dataset\n",
    "2. Plots of the interesting aspects of the dataset\n",
    "3. Descriptive statistics of the dataset\n",
    "4. Conclusion on interesting characteristics, referring to the plots and statistics above.\n"
   ]
  },
  {
   "cell_type": "markdown",
   "metadata": {},
   "source": [
    "## 1. The Anscombe quartet"
   ]
  },
  {
   "cell_type": "markdown",
   "metadata": {},
   "source": [
    "In 1973, Francis Anscombe constructed what became known the Anscombe quartet. The quartet comprises of four datasets, which have nearly identical simple descriptive statistics values. However, all four datasets look drastically different when plotted. *[1]* Created during a time in which graphs were sometimes frowned upon by statisticians, Ascombe set out to prove that graphs are essential to good analysis and ought not to be considered \"cheating\"*[3]* *[5]*\n",
    "\n",
    "Francis Anscombe joined the Yale mathematics department in 1963 and was tasked by nobel prize winner Tjalling C. Koopmans to set up the university's statistics department. He used computers to analyze statistical data and his [1973 paper](https://www.jstor.org/stable/2682899?origin=crossref&seq=1#page_scan_tab_contents) introducing the Anscombe quartet is now considered a classic. \"He was emphatic in cautioning against misdiagnosing and misapplying computer models without obtaining the necessary proof.\" *[4]* The quartet has become so famous, that is pre-programmed in R and also available in seaborn. \n",
    "\n",
    "With current trends in data analysis, such as the rise of Tableau and the ever-increasing demand in businesses to have their data not only collected but visualized in a pleasing and accessible way it is easy to agree with Anscombe. As tempting as the call for visualisation before analysis is, it is important to keep in mind that graphs might not always be as easily to understand and interpret as these 2d examples. *[2]*\n",
    "\n",
    "In 2. I will plot the interesting aspects of the data set and will show in 3. how Python can be used to calculate the descriptive statistics of the dataset. In 4., I will compare the plots with the statistics to showcase what makes this dataset so intriguing. While it is not known how Ascombe created the datasets, I will touch on an interesting project which outlines a strategy to do so to conclude."
   ]
  },
  {
   "cell_type": "markdown",
   "metadata": {},
   "source": [
    "### References"
   ]
  },
  {
   "cell_type": "markdown",
   "metadata": {},
   "source": [
    "[1] https://books.google.ie/books?id=J94WBgAAQBAJ&pg=PA82&dq=quartet+anscombe&hl=de&sa=X&ved=0ahUKEwiJ5LrHy8DeAhVTT8AKHZDqDkIQ6AEINTAD#v=onepage&q=quartet%20anscombe&f=false\n",
    "[2] https://books.google.ie/books?id=B8E0DwAAQBAJ&pg=PA111&dq=quartet+anscombe&hl=de&sa=X&ved=0ahUKEwiJ5LrHy8DeAhVTT8AKHZDqDkIQ6AEILTAB#v=onepage&q=quartet%20anscombe&f=false\n",
    "[3] https://books.google.ie/books?id=FzrsCgAAQBAJ&pg=PA286&dq=francis+anscombe&hl=de&sa=X&ved=0ahUKEwi5-8eMzcDeAhVBNMAKHZVLCv8Q6AEILTAB#v=onepage&q=anscombe&f=false\n",
    "[4] https://www.nytimes.com/2001/10/25/nyregion/francis-john-anscombe-83-mathematician-and-professor.html\n",
    "[5] https://books.google.ie/books?id=t-UaPM8yK6oC&pg=PA337&dq=francis+anscombe&hl=de&sa=X&ved=0ahUKEwi5-8eMzcDeAhVBNMAKHZVLCv8Q6AEINDAC#v=onepage&q=francis%20anscombe&f=false"
   ]
  },
  {
   "cell_type": "markdown",
   "metadata": {},
   "source": [
    "## 2. Plotting the Anscombe quartet"
   ]
  },
  {
   "cell_type": "markdown",
   "metadata": {},
   "source": [
    "As already mentioned, seaborn includes the Anscombe quartet. I will use this in-built dataset as a convenient way to call and use it throughout this notebook. Seaborn is a Python package that builds on matplotlib and is a useful tool to create visually pleasing plots.\n",
    "\n",
    "As can be seen below, the Anscombe quartet consists of four separate datasets, with 11 x and y values each. The rows are numbered and the datasets are denoted with Roman numerals for ease of use."
   ]
  },
  {
   "cell_type": "code",
   "execution_count": 21,
   "metadata": {},
   "outputs": [
    {
     "data": {
      "text/html": [
       "<div>\n",
       "<style scoped>\n",
       "    .dataframe tbody tr th:only-of-type {\n",
       "        vertical-align: middle;\n",
       "    }\n",
       "\n",
       "    .dataframe tbody tr th {\n",
       "        vertical-align: top;\n",
       "    }\n",
       "\n",
       "    .dataframe thead th {\n",
       "        text-align: right;\n",
       "    }\n",
       "</style>\n",
       "<table border=\"1\" class=\"dataframe\">\n",
       "  <thead>\n",
       "    <tr style=\"text-align: right;\">\n",
       "      <th></th>\n",
       "      <th>dataset</th>\n",
       "      <th>x</th>\n",
       "      <th>y</th>\n",
       "    </tr>\n",
       "  </thead>\n",
       "  <tbody>\n",
       "    <tr>\n",
       "      <th>0</th>\n",
       "      <td>I</td>\n",
       "      <td>10.0</td>\n",
       "      <td>8.04</td>\n",
       "    </tr>\n",
       "    <tr>\n",
       "      <th>1</th>\n",
       "      <td>I</td>\n",
       "      <td>8.0</td>\n",
       "      <td>6.95</td>\n",
       "    </tr>\n",
       "    <tr>\n",
       "      <th>2</th>\n",
       "      <td>I</td>\n",
       "      <td>13.0</td>\n",
       "      <td>7.58</td>\n",
       "    </tr>\n",
       "    <tr>\n",
       "      <th>3</th>\n",
       "      <td>I</td>\n",
       "      <td>9.0</td>\n",
       "      <td>8.81</td>\n",
       "    </tr>\n",
       "    <tr>\n",
       "      <th>4</th>\n",
       "      <td>I</td>\n",
       "      <td>11.0</td>\n",
       "      <td>8.33</td>\n",
       "    </tr>\n",
       "    <tr>\n",
       "      <th>5</th>\n",
       "      <td>I</td>\n",
       "      <td>14.0</td>\n",
       "      <td>9.96</td>\n",
       "    </tr>\n",
       "    <tr>\n",
       "      <th>6</th>\n",
       "      <td>I</td>\n",
       "      <td>6.0</td>\n",
       "      <td>7.24</td>\n",
       "    </tr>\n",
       "    <tr>\n",
       "      <th>7</th>\n",
       "      <td>I</td>\n",
       "      <td>4.0</td>\n",
       "      <td>4.26</td>\n",
       "    </tr>\n",
       "    <tr>\n",
       "      <th>8</th>\n",
       "      <td>I</td>\n",
       "      <td>12.0</td>\n",
       "      <td>10.84</td>\n",
       "    </tr>\n",
       "    <tr>\n",
       "      <th>9</th>\n",
       "      <td>I</td>\n",
       "      <td>7.0</td>\n",
       "      <td>4.82</td>\n",
       "    </tr>\n",
       "    <tr>\n",
       "      <th>10</th>\n",
       "      <td>I</td>\n",
       "      <td>5.0</td>\n",
       "      <td>5.68</td>\n",
       "    </tr>\n",
       "    <tr>\n",
       "      <th>11</th>\n",
       "      <td>II</td>\n",
       "      <td>10.0</td>\n",
       "      <td>9.14</td>\n",
       "    </tr>\n",
       "    <tr>\n",
       "      <th>12</th>\n",
       "      <td>II</td>\n",
       "      <td>8.0</td>\n",
       "      <td>8.14</td>\n",
       "    </tr>\n",
       "    <tr>\n",
       "      <th>13</th>\n",
       "      <td>II</td>\n",
       "      <td>13.0</td>\n",
       "      <td>8.74</td>\n",
       "    </tr>\n",
       "    <tr>\n",
       "      <th>14</th>\n",
       "      <td>II</td>\n",
       "      <td>9.0</td>\n",
       "      <td>8.77</td>\n",
       "    </tr>\n",
       "    <tr>\n",
       "      <th>15</th>\n",
       "      <td>II</td>\n",
       "      <td>11.0</td>\n",
       "      <td>9.26</td>\n",
       "    </tr>\n",
       "    <tr>\n",
       "      <th>16</th>\n",
       "      <td>II</td>\n",
       "      <td>14.0</td>\n",
       "      <td>8.10</td>\n",
       "    </tr>\n",
       "    <tr>\n",
       "      <th>17</th>\n",
       "      <td>II</td>\n",
       "      <td>6.0</td>\n",
       "      <td>6.13</td>\n",
       "    </tr>\n",
       "    <tr>\n",
       "      <th>18</th>\n",
       "      <td>II</td>\n",
       "      <td>4.0</td>\n",
       "      <td>3.10</td>\n",
       "    </tr>\n",
       "    <tr>\n",
       "      <th>19</th>\n",
       "      <td>II</td>\n",
       "      <td>12.0</td>\n",
       "      <td>9.13</td>\n",
       "    </tr>\n",
       "    <tr>\n",
       "      <th>20</th>\n",
       "      <td>II</td>\n",
       "      <td>7.0</td>\n",
       "      <td>7.26</td>\n",
       "    </tr>\n",
       "    <tr>\n",
       "      <th>21</th>\n",
       "      <td>II</td>\n",
       "      <td>5.0</td>\n",
       "      <td>4.74</td>\n",
       "    </tr>\n",
       "    <tr>\n",
       "      <th>22</th>\n",
       "      <td>III</td>\n",
       "      <td>10.0</td>\n",
       "      <td>7.46</td>\n",
       "    </tr>\n",
       "    <tr>\n",
       "      <th>23</th>\n",
       "      <td>III</td>\n",
       "      <td>8.0</td>\n",
       "      <td>6.77</td>\n",
       "    </tr>\n",
       "    <tr>\n",
       "      <th>24</th>\n",
       "      <td>III</td>\n",
       "      <td>13.0</td>\n",
       "      <td>12.74</td>\n",
       "    </tr>\n",
       "    <tr>\n",
       "      <th>25</th>\n",
       "      <td>III</td>\n",
       "      <td>9.0</td>\n",
       "      <td>7.11</td>\n",
       "    </tr>\n",
       "    <tr>\n",
       "      <th>26</th>\n",
       "      <td>III</td>\n",
       "      <td>11.0</td>\n",
       "      <td>7.81</td>\n",
       "    </tr>\n",
       "    <tr>\n",
       "      <th>27</th>\n",
       "      <td>III</td>\n",
       "      <td>14.0</td>\n",
       "      <td>8.84</td>\n",
       "    </tr>\n",
       "    <tr>\n",
       "      <th>28</th>\n",
       "      <td>III</td>\n",
       "      <td>6.0</td>\n",
       "      <td>6.08</td>\n",
       "    </tr>\n",
       "    <tr>\n",
       "      <th>29</th>\n",
       "      <td>III</td>\n",
       "      <td>4.0</td>\n",
       "      <td>5.39</td>\n",
       "    </tr>\n",
       "    <tr>\n",
       "      <th>30</th>\n",
       "      <td>III</td>\n",
       "      <td>12.0</td>\n",
       "      <td>8.15</td>\n",
       "    </tr>\n",
       "    <tr>\n",
       "      <th>31</th>\n",
       "      <td>III</td>\n",
       "      <td>7.0</td>\n",
       "      <td>6.42</td>\n",
       "    </tr>\n",
       "    <tr>\n",
       "      <th>32</th>\n",
       "      <td>III</td>\n",
       "      <td>5.0</td>\n",
       "      <td>5.73</td>\n",
       "    </tr>\n",
       "    <tr>\n",
       "      <th>33</th>\n",
       "      <td>IV</td>\n",
       "      <td>8.0</td>\n",
       "      <td>6.58</td>\n",
       "    </tr>\n",
       "    <tr>\n",
       "      <th>34</th>\n",
       "      <td>IV</td>\n",
       "      <td>8.0</td>\n",
       "      <td>5.76</td>\n",
       "    </tr>\n",
       "    <tr>\n",
       "      <th>35</th>\n",
       "      <td>IV</td>\n",
       "      <td>8.0</td>\n",
       "      <td>7.71</td>\n",
       "    </tr>\n",
       "    <tr>\n",
       "      <th>36</th>\n",
       "      <td>IV</td>\n",
       "      <td>8.0</td>\n",
       "      <td>8.84</td>\n",
       "    </tr>\n",
       "    <tr>\n",
       "      <th>37</th>\n",
       "      <td>IV</td>\n",
       "      <td>8.0</td>\n",
       "      <td>8.47</td>\n",
       "    </tr>\n",
       "    <tr>\n",
       "      <th>38</th>\n",
       "      <td>IV</td>\n",
       "      <td>8.0</td>\n",
       "      <td>7.04</td>\n",
       "    </tr>\n",
       "    <tr>\n",
       "      <th>39</th>\n",
       "      <td>IV</td>\n",
       "      <td>8.0</td>\n",
       "      <td>5.25</td>\n",
       "    </tr>\n",
       "    <tr>\n",
       "      <th>40</th>\n",
       "      <td>IV</td>\n",
       "      <td>19.0</td>\n",
       "      <td>12.50</td>\n",
       "    </tr>\n",
       "    <tr>\n",
       "      <th>41</th>\n",
       "      <td>IV</td>\n",
       "      <td>8.0</td>\n",
       "      <td>5.56</td>\n",
       "    </tr>\n",
       "    <tr>\n",
       "      <th>42</th>\n",
       "      <td>IV</td>\n",
       "      <td>8.0</td>\n",
       "      <td>7.91</td>\n",
       "    </tr>\n",
       "    <tr>\n",
       "      <th>43</th>\n",
       "      <td>IV</td>\n",
       "      <td>8.0</td>\n",
       "      <td>6.89</td>\n",
       "    </tr>\n",
       "  </tbody>\n",
       "</table>\n",
       "</div>"
      ],
      "text/plain": [
       "   dataset     x      y\n",
       "0        I  10.0   8.04\n",
       "1        I   8.0   6.95\n",
       "2        I  13.0   7.58\n",
       "3        I   9.0   8.81\n",
       "4        I  11.0   8.33\n",
       "5        I  14.0   9.96\n",
       "6        I   6.0   7.24\n",
       "7        I   4.0   4.26\n",
       "8        I  12.0  10.84\n",
       "9        I   7.0   4.82\n",
       "10       I   5.0   5.68\n",
       "11      II  10.0   9.14\n",
       "12      II   8.0   8.14\n",
       "13      II  13.0   8.74\n",
       "14      II   9.0   8.77\n",
       "15      II  11.0   9.26\n",
       "16      II  14.0   8.10\n",
       "17      II   6.0   6.13\n",
       "18      II   4.0   3.10\n",
       "19      II  12.0   9.13\n",
       "20      II   7.0   7.26\n",
       "21      II   5.0   4.74\n",
       "22     III  10.0   7.46\n",
       "23     III   8.0   6.77\n",
       "24     III  13.0  12.74\n",
       "25     III   9.0   7.11\n",
       "26     III  11.0   7.81\n",
       "27     III  14.0   8.84\n",
       "28     III   6.0   6.08\n",
       "29     III   4.0   5.39\n",
       "30     III  12.0   8.15\n",
       "31     III   7.0   6.42\n",
       "32     III   5.0   5.73\n",
       "33      IV   8.0   6.58\n",
       "34      IV   8.0   5.76\n",
       "35      IV   8.0   7.71\n",
       "36      IV   8.0   8.84\n",
       "37      IV   8.0   8.47\n",
       "38      IV   8.0   7.04\n",
       "39      IV   8.0   5.25\n",
       "40      IV  19.0  12.50\n",
       "41      IV   8.0   5.56\n",
       "42      IV   8.0   7.91\n",
       "43      IV   8.0   6.89"
      ]
     },
     "execution_count": 21,
     "metadata": {},
     "output_type": "execute_result"
    }
   ],
   "source": [
    "import seaborn as sns\n",
    "df = sns.load_dataset(\"anscombe\")\n",
    "df"
   ]
  },
  {
   "cell_type": "markdown",
   "metadata": {},
   "source": [
    "In the following I have created several plots that visualize the datasets."
   ]
  },
  {
   "cell_type": "markdown",
   "metadata": {},
   "source": [
    "### Linear relationship"
   ]
  },
  {
   "cell_type": "code",
   "execution_count": 22,
   "metadata": {},
   "outputs": [
    {
     "data": {
      "text/plain": [
       "<seaborn.axisgrid.FacetGrid at 0x2a20331a550>"
      ]
     },
     "execution_count": 22,
     "metadata": {},
     "output_type": "execute_result"
    },
    {
     "data": {
      "image/png": "[encoded data removed]",
      "text/plain": [
       "<Figure size 576x576 with 4 Axes>"
      ]
     },
     "metadata": {
      "needs_background": "light"
     },
     "output_type": "display_data"
    }
   ],
   "source": [
    "import matplotlib.pyplot as plt\n",
    "import seaborn as sb\n",
    "df = sb.load_dataset(\"anscombe\")\n",
    "\n",
    "sb.lmplot(x=\"x\", y=\"y\", col=\"dataset\", hue=\"dataset\", data=df,\n",
    "           col_wrap=2, ci=None, palette=\"muted\", height=4,\n",
    "           scatter_kws={\"s\": 50, \"alpha\": 1})\n",
    "# Code adapted from: https://seaborn.pydata.org/examples/anscombes_quartet.html"
   ]
  },
  {
   "cell_type": "markdown",
   "metadata": {},
   "source": [
    "THe above plots the linear relationship between the two variables x and y in each of the four datasets. The line going from bottom left to top right suggests that there is a positive linear regression between the variables. However, an observation of the datapoints suggests that there isn't in fact a linear relationship. The values of I are jumbled, while dataset II is clearly not following a linear trend, the line for dataset III is thrown off by an outlier and for dataset IV x does not increase apart from one obvious outlier. [1]\n",
    "\n",
    "To get a better look at it, I have chosen to layer swamplots to have all datapoints conveniently in one place. The argument \"hue\" allows me to keep the datasets visually apart. It can be seen that the range of I, II and III is fairly similar with all having an overall upwards trend. All three start at 4 on the x axis and stretch up to 14 on the x axis. Only dataset IV, depicted in red, shows a drastically different pattern with all x values sitting at 8 apart from one outlier at 19, which also marks the highest x value of the datasets. It can be clearly seen, that all datasets are fairly different."
   ]
  },
  {
   "cell_type": "code",
   "execution_count": 18,
   "metadata": {},
   "outputs": [
    {
     "data": {
      "text/plain": [
       "<matplotlib.axes._subplots.AxesSubplot at 0x2251107ed68>"
      ]
     },
     "execution_count": 18,
     "metadata": {},
     "output_type": "execute_result"
    },
    {
     "data": {
      "image/png": "[encoded data removed]",
      "text/plain": [
       "<Figure size 432x288 with 1 Axes>"
      ]
     },
     "metadata": {
      "needs_background": "light"
     },
     "output_type": "display_data"
    }
   ],
   "source": [
    "sb.swarmplot(x='x', y='y', hue = 'dataset', data=df)"
   ]
  },
  {
   "cell_type": "markdown",
   "metadata": {},
   "source": [
    "The above swamplot proved very useful to quickly spot some interesting characteristics of the x values in the dataset. The y values did not appear as striking. To have a better look, I chose to display the x and y values separately in the following swarmplots. The plot for the x value adds the insight at first glance that the x values for the first three datasets are exactly the same, with IV standing out by having all the same values except for one outlier, as noted above."
   ]
  },
  {
   "cell_type": "code",
   "execution_count": 12,
   "metadata": {},
   "outputs": [
    {
     "data": {
      "text/plain": [
       "<matplotlib.axes._subplots.AxesSubplot at 0x22510a8a0b8>"
      ]
     },
     "execution_count": 12,
     "metadata": {},
     "output_type": "execute_result"
    },
    {
     "data": {
      "image/png": "[encoded data removed]",
      "text/plain": [
       "<Figure size 432x288 with 1 Axes>"
      ]
     },
     "metadata": {
      "needs_background": "light"
     },
     "output_type": "display_data"
    }
   ],
   "source": [
    "# comparing the two columns\n",
    "sb.swarmplot(x='dataset', y='x', data=df)"
   ]
  },
  {
   "cell_type": "markdown",
   "metadata": {},
   "source": []
  },
  {
   "cell_type": "markdown",
   "metadata": {},
   "source": [
    "The values from the y column have more variety, however, it can be noted that while some sport higher or lower values, the main weight appears to be around the medium values 6-9. We can also identify some similarities between the y values of dataset III and IV, namely that both have one outlier that lies way ahead the main group of values which are bunched around the 5-9 range."
   ]
  },
  {
   "cell_type": "code",
   "execution_count": 13,
   "metadata": {},
   "outputs": [
    {
     "data": {
      "text/plain": [
       "<matplotlib.axes._subplots.AxesSubplot at 0x22510af7a90>"
      ]
     },
     "execution_count": 13,
     "metadata": {},
     "output_type": "execute_result"
    },
    {
     "data": {
      "image/png": "[encoded data removed]",
      "text/plain": [
       "<Figure size 432x288 with 1 Axes>"
      ]
     },
     "metadata": {
      "needs_background": "light"
     },
     "output_type": "display_data"
    }
   ],
   "source": [
    "sb.swarmplot(x='dataset', y='y', data=df)"
   ]
  },
  {
   "cell_type": "markdown",
   "metadata": {},
   "source": [
    "### References\n",
    "\n",
    "[1] https://rstudio-pubs-static.s3.amazonaws.com/52381_36ec82827e4b476fb968d9143aec7c4f.html"
   ]
  },
  {
   "cell_type": "markdown",
   "metadata": {},
   "source": [
    "## 3. Simple statistics of the Anscombe quartet"
   ]
  },
  {
   "cell_type": "markdown",
   "metadata": {},
   "source": [
    "In section 2, I have presented the datasets visually using plots. In this section I will use Python and seaborn to collect some summary statistics from the dataset. \n",
    "As was outlined in the introduction, the Anscombe quartet is famous because the differences between the datasets are not captured by summary statistics but rather through plotting. I will look at the following characteristics:"
   ]
  },
  {
   "cell_type": "markdown",
   "metadata": {},
   "source": [
    "* **Mean** - the mean or average shows the central tendency of a dataset. It is calculated by adding all datapoints and dividing them by the number of datapoints. It is a useful measure as it includes all of the data and can be used for further statistical or mathematical operations [1]  \n",
    "* \"The **standard deviation** is a statistic that tells how tightly all the various examples are clustered around the mean in a set of data. \" - it is calculated by subtracting the mean from the value and squaring the result. [2]\n",
    "* **Variance** - the variance tells how far the data is spread out. 0 means there is no variability. It is calculated by subtracting the mean from the value x , sqauring the result and then averaging the squared differences. [3] \n",
    "* **Correlation**  "
   ]
  },
  {
   "cell_type": "markdown",
   "metadata": {},
   "source": [
    "In the next cell, I will be calculating the descriptive statistics of the four datasets using seaborn and Python by using the `describe()` function, as well as the `var()`, `median()` and `corr()` functions. "
   ]
  },
  {
   "cell_type": "code",
   "execution_count": 72,
   "metadata": {},
   "outputs": [
    {
     "name": "stdout",
     "output_type": "stream",
     "text": [
      "The stats for the dataset I:\n",
      "               x          y\n",
      "count  11.000000  11.000000\n",
      "mean    9.000000   7.500909\n",
      "std     3.316625   2.031568\n",
      "min     4.000000   4.260000\n",
      "25%     6.500000   6.315000\n",
      "50%     9.000000   7.580000\n",
      "75%    11.500000   8.570000\n",
      "max    14.000000  10.840000\n",
      "The variance is:\n",
      "x    11.000000\n",
      "y     4.127269\n",
      "dtype: float64\n",
      "The median is:\n",
      "x    9.00\n",
      "y    7.58\n",
      "dtype: float64\n",
      "The correlation is:\n",
      "          x         y\n",
      "x  1.000000  0.816421\n",
      "y  0.816421  1.000000\n",
      "The stats for the dataset II:\n",
      "               x          y\n",
      "count  11.000000  11.000000\n",
      "mean    9.000000   7.500909\n",
      "std     3.316625   2.031657\n",
      "min     4.000000   3.100000\n",
      "25%     6.500000   6.695000\n",
      "50%     9.000000   8.140000\n",
      "75%    11.500000   8.950000\n",
      "max    14.000000   9.260000\n",
      "The variance is:\n",
      "x    11.000000\n",
      "y     4.127629\n",
      "dtype: float64\n",
      "The median is:\n",
      "x    9.00\n",
      "y    8.14\n",
      "dtype: float64\n",
      "The correlation is:\n",
      "          x         y\n",
      "x  1.000000  0.816237\n",
      "y  0.816237  1.000000\n",
      "The stats for the dataset III:\n",
      "               x          y\n",
      "count  11.000000  11.000000\n",
      "mean    9.000000   7.500000\n",
      "std     3.316625   2.030424\n",
      "min     4.000000   5.390000\n",
      "25%     6.500000   6.250000\n",
      "50%     9.000000   7.110000\n",
      "75%    11.500000   7.980000\n",
      "max    14.000000  12.740000\n",
      "The variance is:\n",
      "x    11.00000\n",
      "y     4.12262\n",
      "dtype: float64\n",
      "The median is:\n",
      "x    9.00\n",
      "y    7.11\n",
      "dtype: float64\n",
      "The correlation is:\n",
      "          x         y\n",
      "x  1.000000  0.816287\n",
      "y  0.816287  1.000000\n",
      "The stats for the dataset IV:\n",
      "               x          y\n",
      "count  11.000000  11.000000\n",
      "mean    9.000000   7.500909\n",
      "std     3.316625   2.030579\n",
      "min     8.000000   5.250000\n",
      "25%     8.000000   6.170000\n",
      "50%     8.000000   7.040000\n",
      "75%     8.000000   8.190000\n",
      "max    19.000000  12.500000\n",
      "The variance is:\n",
      "x    11.000000\n",
      "y     4.123249\n",
      "dtype: float64\n",
      "The median is:\n",
      "x    8.00\n",
      "y    7.04\n",
      "dtype: float64\n",
      "The correlation is:\n",
      "          x         y\n",
      "x  1.000000  0.816521\n",
      "y  0.816521  1.000000\n"
     ]
    }
   ],
   "source": [
    "import seaborn as sns\n",
    "df = sns.load_dataset(\"anscombe\")\n",
    "\n",
    "#split the dataset\n",
    "Q1 = df.loc[df[\"dataset\"] == \"I\"]\n",
    "Q2 = df.loc[df[\"dataset\"] == \"II\"]\n",
    "Q3 = df.loc[df[\"dataset\"] == \"III\"]\n",
    "Q4 = df.loc[df[\"dataset\"] == \"IV\"]\n",
    "\n",
    "#print some of the basic statistic values of the dataset\n",
    "print(\"The stats for the dataset I:\")\n",
    "print(Q1.describe())\n",
    "print(\"The variance is:\")\n",
    "print(Q1.var())\n",
    "print(\"The median is:\")\n",
    "print(Q1.median())\n",
    "print(\"The correlation is:\")\n",
    "print(Q1.corr())\n",
    "print(\"The stats for the dataset II:\")\n",
    "print(Q2.describe())\n",
    "print(\"The variance is:\")\n",
    "print(Q2.var())\n",
    "print(\"The median is:\")\n",
    "print(Q2.median())\n",
    "print(\"The correlation is:\")\n",
    "print(Q2.corr())\n",
    "print(\"The stats for the dataset III:\")\n",
    "print(Q3.describe())\n",
    "print(\"The variance is:\")\n",
    "print(Q3.var())\n",
    "print(\"The median is:\")\n",
    "print(Q3.median())\n",
    "print(\"The correlation is:\")\n",
    "print(Q3.corr())\n",
    "print(\"The stats for the dataset IV:\")\n",
    "print(Q4.describe())\n",
    "print(\"The variance is:\")\n",
    "print(Q4.var())\n",
    "print(\"The median is:\")\n",
    "print(Q4.median())\n",
    "print(\"The correlation is:\")\n",
    "print(Q4.corr())"
   ]
  },
  {
   "cell_type": "markdown",
   "metadata": {},
   "source": [
    "Note how the mean, standard deviation, correlation and variance is the same across all four datasets at least up until the second decimal place. "
   ]
  },
  {
   "cell_type": "markdown",
   "metadata": {},
   "source": [
    "|        Stats       |   Across datasets   |\n",
    "|:------------------:|:-------------------:|\n",
    "|      Variance      | x = 11.00, y = 4.12 |\n",
    "|        Mean        |  x = 9.00, y = 7.50 |\n",
    "|     Correlation    |         0.81        |\n",
    "| Standard Deviation | x = 3.31, y = 2.03  |"
   ]
  },
  {
   "cell_type": "markdown",
   "metadata": {},
   "source": [
    "### References"
   ]
  },
  {
   "cell_type": "markdown",
   "metadata": {},
   "source": [
    "[1] https://www.techopedia.com/definition/26136/statistical-mean  \n",
    "[2] https://www.robertniles.com/stats/stdev.shtml  \n",
    "[3] https://www.statisticshowto.datasciencecentral.com/probability-and-statistics/variance/"
   ]
  },
  {
   "cell_type": "markdown",
   "metadata": {},
   "source": [
    "## 4. Comparing plots and statistics"
   ]
  },
  {
   "cell_type": "markdown",
   "metadata": {},
   "source": [
    "What makes these datatsets interesting is the fact that their summary stats are misleading. Judging only by the above table, one would picture four very similar datasets. It is only when looking at the plots, that it becomes apparent how different they are. It also underlines how outliers can skew data and therefore underline the importance of visualizing data.\n",
    "\n",
    "[This blogpost](https://www.r-bloggers.com/using-and-abusing-data-visualization-anscombes-quartet-and-cheating-bonferroni/) makes another interesting point, namely that simply looking at your data should not tempt you to neglect working the maths on the data you are looking at."
   ]
  },
  {
   "cell_type": "markdown",
   "metadata": {},
   "source": [
    "Furthermore, it is not known how Anscombe went about creating his dataset. However, it is possible to find strategies to do so online. The [Datasaurus Dataset](https://www.autodeskresearch.com/publications/samestats) below was created by Alberto Cairo and makes the same point as the Anscombe quartet. In their publication, they outline how they went about creating the dataset and also note how part of the appeal of datasets like these is that the plots look very structured and markedly different from each other."
   ]
  },
  {
   "cell_type": "code",
   "execution_count": 19,
   "metadata": {},
   "outputs": [
    {
     "data": {
      "text/html": [
       "<img src=\"https://d2f99xq7vri1nk.cloudfront.net/DinoSequentialSmaller.gif\" width=\"700\">"
      ],
      "text/plain": [
       "<IPython.core.display.HTML object>"
      ]
     },
     "execution_count": 19,
     "metadata": {},
     "output_type": "execute_result"
    }
   ],
   "source": [
    "from IPython.display import HTML\n",
    "HTML('<img src=\"https://d2f99xq7vri1nk.cloudfront.net/DinoSequentialSmaller.gif\" width=\"700\">')"
   ]
  },
  {
   "cell_type": "markdown",
   "metadata": {},
   "source": [
    "Their method is to take an existing dataset and manipulating it little by little while maintaining the statistical properties to achieve the desired result:\n",
    "\n",
    ">To move the points towards a particular shape, we perform an additional check at each random perturbation. Besides checking >that the statistical properties are still valid, we also check to see if the point has moved closer to the target shape. If >both of those conditions are met, we \"accept\" the new position, and move to the next iteration. [2]"
   ]
  },
  {
   "cell_type": "markdown",
   "metadata": {},
   "source": [
    "## References"
   ]
  },
  {
   "cell_type": "markdown",
   "metadata": {},
   "source": [
    "[2] https://www.autodeskresearch.com/publications/samestats"
   ]
  }
 ],
 "metadata": {
  "kernelspec": {
   "display_name": "Python 3",
   "language": "python",
   "name": "python3"
  },
  "language_info": {
   "codemirror_mode": {
    "name": "ipython",
    "version": 3
   },
   "file_extension": ".py",
   "mimetype": "text/x-python",
   "name": "python",
   "nbconvert_exporter": "python",
   "pygments_lexer": "ipython3",
   "version": "3.7.0"
  }
 },
 "nbformat": 4,
 "nbformat_minor": 2
}
